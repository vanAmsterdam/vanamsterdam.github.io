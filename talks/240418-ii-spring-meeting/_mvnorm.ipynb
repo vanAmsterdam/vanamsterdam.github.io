{
 "cells": [
  {
   "cell_type": "code",
   "execution_count": 385,
   "id": "66b11888-7649-4eaf-a32e-31e205681dbc",
   "metadata": {},
   "outputs": [],
   "source": [
    "import numpyro\n",
    "from jax import numpy as jnp, random, vmap\n",
    "from jax.random import PRNGKey as PK\n",
    "from numpyro.infer import Predictive\n",
    "from numpyro.infer.mcmc import MCMC\n",
    "from numpyro.infer.hmc import NUTS\n",
    "from numpyro import sample, plate\n",
    "from numpyro.handlers import seed\n",
    "from numpyro import distributions as dist, handlers\n",
    "import arviz as az\n",
    "import pandas as pd\n",
    "import seaborn as sns\n",
    "from functools import partial\n",
    "from sklearn import linear_model\n",
    "\n",
    "# from numpyro import "
   ]
  },
  {
   "cell_type": "code",
   "execution_count": 157,
   "id": "7a131247-b26d-4d3a-9343-bcc103be7d18",
   "metadata": {},
   "outputs": [],
   "source": [
    "df = pd.read_csv('lenght_weight.csv')\n",
    "df[\"sex_int\"] = (df.sex == 'boy').astype(int)"
   ]
  },
  {
   "cell_type": "code",
   "execution_count": 101,
   "id": "0f67e5db-01c0-4fd7-b6e6-6f0cca714907",
   "metadata": {},
   "outputs": [
    {
     "name": "stdout",
     "output_type": "stream",
     "text": [
      "(2000, 2)\n"
     ]
    }
   ],
   "source": [
    "sex_boy = jnp.asarray(df.sex == 'boy', dtype=jnp.int32)\n",
    "length = jnp.asarray(df.length)\n",
    "weight = jnp.asarray(df.weight)\n",
    "X_all = jnp.stack((length, weight), 1)\n",
    "print(X_all.shape)"
   ]
  },
  {
   "cell_type": "code",
   "execution_count": 87,
   "id": "0632c3fb-a762-4a27-ba57-e9bf5a9f2ac6",
   "metadata": {},
   "outputs": [],
   "source": [
    "mus = jnp.stack((jnp.diag(jnp.ones(2)), jnp.diag(jnp.ones(2))), 0)"
   ]
  },
  {
   "cell_type": "code",
   "execution_count": 90,
   "id": "ee7b4884-e12b-4961-95c8-0302086f6e64",
   "metadata": {},
   "outputs": [
    {
     "data": {
      "text/plain": [
       "Array([[[1., 0.],\n",
       "        [0., 1.]],\n",
       "\n",
       "       [[1., 0.],\n",
       "        [0., 1.]]], dtype=float32)"
      ]
     },
     "execution_count": 90,
     "metadata": {},
     "output_type": "execute_result"
    }
   ],
   "source": [
    "mus"
   ]
  },
  {
   "cell_type": "code",
   "execution_count": null,
   "id": "cb656f47-ce70-4bb1-b124-fc2ba502947e",
   "metadata": {},
   "outputs": [],
   "source": []
  },
  {
   "cell_type": "code",
   "execution_count": 315,
   "id": "25e95a57-9585-4dc1-a7b3-0116c36a6554",
   "metadata": {},
   "outputs": [],
   "source": [
    "def model_isotropic(X=None, sex_boy=None):\n",
    "    with plate('sexes', 2):\n",
    "        mu0 = sample('mu0', dist.Normal(0, 100))\n",
    "        mu1 = sample('mu1', dist.Normal(0, 100))\n",
    "        s = sample('s', dist.Exponential(10.))\n",
    "\n",
    "    mu0s = mu0[sex_boy]\n",
    "    mu1s = mu1[sex_boy]\n",
    "    mu = jnp.stack((mu0s, mu1s), axis=-1)\n",
    "    sigma = s * jnp.diag(jnp.ones(2))\n",
    "\n",
    "    with plate('plate_obs', sex_boy.shape[0]):\n",
    "        X_hat = sample('obs', dist.MultivariateNormal(mu, sigma), obs=X)\n",
    "        return X_hat\n",
    "\n",
    "\n",
    "def model_full(X=None, sex_boy=None):\n",
    "    with plate('sexes', 2):\n",
    "        mu0 = sample('mu0', dist.Normal(0, 100))\n",
    "        mu1 = sample('mu1', dist.Normal(0, 100))\n",
    "        s0 = sample('s0', dist.Exponential(10.))\n",
    "        s1 = sample('s1', dist.Exponential(10.))\n",
    "        rho = sample('rho', dist.Uniform(-1,1))\n",
    "\n",
    "    mu0s = mu0[sex_boy]\n",
    "    mu1s = mu1[sex_boy]\n",
    "    mu = jnp.stack((mu0s, mu1s), axis=-1)\n",
    "\n",
    "    # sigma\n",
    "    sigmas = jnp.array([\n",
    "        [[s0[0],rho[0]],[rho[0],s1[0]]],\n",
    "        [[s0[1],rho[1]],[rho[1],s1[1]]]\n",
    "    ])\n",
    "    # s0s = s0[sex_boy]\n",
    "    # s1s = s1[sex_boy]\n",
    "    sigma = sigmas[sex_boy]\n",
    "    # print(sigma.shape)\n",
    "    \n",
    "    with plate('plate_obs', sex_boy.shape[0]):\n",
    "        # mu = mus[sex_boy]\n",
    "        # sigma = jnp.where(sex_boy, sigma_boy, sigma_girl)\n",
    "        X_hat = sample('obs', dist.MultivariateNormal(mu, sigma), obs=X)\n",
    "        return X_hat"
   ]
  },
  {
   "cell_type": "code",
   "execution_count": 316,
   "id": "a3b5e63b-ffc7-480c-812a-339b61dec958",
   "metadata": {},
   "outputs": [
    {
     "name": "stdout",
     "output_type": "stream",
     "text": [
      "(2000, 2)\n"
     ]
    }
   ],
   "source": [
    "with seed(rng_seed=123):\n",
    "    X_out = model_isotropic(X_all, jnp.astype(sex_boy, jnp.int32))\n",
    "    X_out = model_full(X_all, jnp.astype(sex_boy, jnp.int32))\n",
    "\n",
    "    print(X_out.shape)"
   ]
  },
  {
   "cell_type": "code",
   "execution_count": 314,
   "id": "c849e7e5-ce46-4890-9e9f-5154594a3784",
   "metadata": {},
   "outputs": [
    {
     "name": "stderr",
     "output_type": "stream",
     "text": [
      "/var/folders/kv/br6bm8dd2m72m9t7s1dvykgw0000gq/T/ipykernel_84864/1870254831.py:3: UserWarning: There are not enough devices to run parallel chains: expected 4 but got 1. Chains will be drawn sequentially. If you are running MCMC in CPU, consider using `numpyro.set_host_device_count(4)` at the beginning of your program. You can double-check how many devices are available in your system using `jax.local_device_count()`.\n",
      "  mcmcs = {k:MCMC(NUTS(model), num_warmup=100, num_samples=400, num_chains=4) for k, model in models.items()}\n"
     ]
    },
    {
     "name": "stdout",
     "output_type": "stream",
     "text": [
      "(2,)\n",
      "(2000,)\n",
      "(2,)\n",
      "(2000,)\n"
     ]
    },
    {
     "name": "stderr",
     "output_type": "stream",
     "text": [
      "  0%|                                                                                                                                                                                                                                                 | 0/500 [00:00<?, ?it/s]"
     ]
    },
    {
     "name": "stdout",
     "output_type": "stream",
     "text": [
      "(2,)\n",
      "(2000,)\n"
     ]
    },
    {
     "name": "stderr",
     "output_type": "stream",
     "text": [
      "sample: 100%|████████████████████████████████████████████████████████████████████████████████████████████████████████████████████████████████████████████████████████████████████████████████████| 500/500 [00:01<00:00, 346.59it/s, 7 steps of size 5.54e-01. acc. prob=0.92]\n"
     ]
    },
    {
     "name": "stdout",
     "output_type": "stream",
     "text": [
      "(2,)\n",
      "(2000,)\n",
      "(2,)\n",
      "(2000,)\n"
     ]
    },
    {
     "name": "stderr",
     "output_type": "stream",
     "text": [
      "sample: 100%|███████████████████████████████████████████████████████████████████████████████████████████████████████████████████████████████████████████████████████████████████████████████████| 500/500 [00:00<00:00, 3374.48it/s, 3 steps of size 9.70e-01. acc. prob=0.85]\n"
     ]
    },
    {
     "name": "stdout",
     "output_type": "stream",
     "text": [
      "(2,)\n",
      "(2000,)\n",
      "(2,)\n",
      "(2000,)\n"
     ]
    },
    {
     "name": "stderr",
     "output_type": "stream",
     "text": [
      "sample: 100%|███████████████████████████████████████████████████████████████████████████████████████████████████████████████████████████████████████████████████████████████████████████████████| 500/500 [00:00<00:00, 3222.75it/s, 7 steps of size 5.73e-01. acc. prob=0.95]\n"
     ]
    },
    {
     "name": "stdout",
     "output_type": "stream",
     "text": [
      "(2,)\n",
      "(2000,)\n",
      "(2,)\n",
      "(2000,)\n"
     ]
    },
    {
     "name": "stderr",
     "output_type": "stream",
     "text": [
      "sample: 100%|███████████████████████████████████████████████████████████████████████████████████████████████████████████████████████████████████████████████████████████████████████████████████| 500/500 [00:00<00:00, 3252.37it/s, 7 steps of size 6.75e-01. acc. prob=0.92]\n"
     ]
    },
    {
     "name": "stdout",
     "output_type": "stream",
     "text": [
      "(2000, 2, 2)\n",
      "(2000, 2, 2)\n",
      "(2000, 2, 2)\n"
     ]
    },
    {
     "name": "stderr",
     "output_type": "stream",
     "text": [
      "  0%|                                                                                                                                                                                                                                                 | 0/500 [00:00<?, ?it/s]"
     ]
    },
    {
     "name": "stdout",
     "output_type": "stream",
     "text": [
      "(2000, 2, 2)\n"
     ]
    },
    {
     "name": "stderr",
     "output_type": "stream",
     "text": [
      "sample: 100%|█████████████████████████████████████████████████████████████████████████████████████████████████████████████████████████████████████████████████████████████████████████████████████| 500/500 [00:12<00:00, 39.82it/s, 7 steps of size 7.81e-03. acc. prob=0.97]\n"
     ]
    },
    {
     "name": "stdout",
     "output_type": "stream",
     "text": [
      "(2000, 2, 2)\n",
      "(2000, 2, 2)\n",
      "(2000, 2, 2)\n"
     ]
    },
    {
     "name": "stderr",
     "output_type": "stream",
     "text": [
      "sample: 100%|████████████████████████████████████████████████████████████████████████████████████████████████████████████████████████████████████████████████████████████████████████████████████| 500/500 [00:07<00:00, 64.52it/s, 63 steps of size 1.30e-02. acc. prob=0.80]\n"
     ]
    },
    {
     "name": "stdout",
     "output_type": "stream",
     "text": [
      "(2000, 2, 2)\n",
      "(2000, 2, 2)\n"
     ]
    },
    {
     "name": "stderr",
     "output_type": "stream",
     "text": [
      "sample: 100%|███████████████████████████████████████████████████████████████████████████████████████████████████████████████████████████████████████████████████████████████████████████████████| 500/500 [00:24<00:00, 20.54it/s, 511 steps of size 5.51e-03. acc. prob=0.97]\n"
     ]
    },
    {
     "name": "stdout",
     "output_type": "stream",
     "text": [
      "(2000, 2, 2)\n",
      "(2000, 2, 2)\n"
     ]
    },
    {
     "name": "stderr",
     "output_type": "stream",
     "text": [
      "sample: 100%|███████████████████████████████████████████████████████████████████████████████████████████████████████████████████████████████████████████████████████████████████████████████████| 500/500 [00:11<00:00, 42.19it/s, 191 steps of size 8.05e-03. acc. prob=0.96]\n"
     ]
    }
   ],
   "source": [
    "mcmc_key = PK(1234)\n",
    "models = {'isotropic': model_isotropic, 'full': model_full}\n",
    "mcmcs = {k:MCMC(NUTS(model), num_warmup=100, num_samples=400, num_chains=4) for k, model in models.items()}\n",
    "\n",
    "for k, mcmc in mcmcs.items():\n",
    "    key, mcmc_key = random.split(mcmc_key, 2)\n",
    "    mcmc.run(mcmc_key, X_all, sex_boy)\n",
    "# samples_iso = mcmc.get_samples()"
   ]
  },
  {
   "cell_type": "code",
   "execution_count": 317,
   "id": "d41a4d59-72c3-4550-99ae-34dae1d960e9",
   "metadata": {},
   "outputs": [],
   "source": [
    "smps = {k: mcmc.get_samples() for k, mcmc in mcmcs.items()}"
   ]
  },
  {
   "cell_type": "code",
   "execution_count": 322,
   "id": "a625d210-2c66-40d9-8e9d-db69b28417e8",
   "metadata": {},
   "outputs": [
    {
     "data": {
      "text/plain": [
       "{'mu0': Array([[0.9869392 , 2.115347  ],\n",
       "        [0.93496054, 2.0831432 ],\n",
       "        [0.99030745, 2.0832715 ],\n",
       "        ...,\n",
       "        [0.98088   , 2.0172522 ],\n",
       "        [0.97248   , 2.022586  ],\n",
       "        [0.97204214, 2.092778  ]], dtype=float32),\n",
       " 'mu1': Array([[0.6231724 , 2.6466455 ],\n",
       "        [0.58662015, 2.608571  ],\n",
       "        [0.5808599 , 2.5785112 ],\n",
       "        ...,\n",
       "        [0.5871657 , 2.5240452 ],\n",
       "        [0.5877132 , 2.5335586 ],\n",
       "        [0.5995113 , 2.6081865 ]], dtype=float32),\n",
       " 'rho': Array([[0.5347645 , 0.92719483],\n",
       "        [0.52828455, 0.87893903],\n",
       "        [0.52852833, 0.87306905],\n",
       "        ...,\n",
       "        [0.5837885 , 0.9514116 ],\n",
       "        [0.5806422 , 0.95236826],\n",
       "        [0.5508629 , 0.9688449 ]], dtype=float32),\n",
       " 's0': Array([[0.90297323, 0.90525156],\n",
       "        [0.8905472 , 0.85593605],\n",
       "        [0.89652085, 0.8606665 ],\n",
       "        ...,\n",
       "        [0.93863964, 0.9405238 ],\n",
       "        [0.9425169 , 0.93283135],\n",
       "        [0.90143895, 0.96720004]], dtype=float32),\n",
       " 's1': Array([[0.40667737, 1.0407908 ],\n",
       "        [0.39773571, 0.99322176],\n",
       "        [0.40069684, 0.97424036],\n",
       "        ...,\n",
       "        [0.45277253, 1.0535889 ],\n",
       "        [0.45487392, 1.0584402 ],\n",
       "        [0.42752165, 1.0593674 ]], dtype=float32)}"
      ]
     },
     "execution_count": 322,
     "metadata": {},
     "output_type": "execute_result"
    }
   ],
   "source": [
    "smps['full']"
   ]
  },
  {
   "cell_type": "code",
   "execution_count": 324,
   "id": "f416d20b-48fd-4caf-aa38-0732543ba05f",
   "metadata": {},
   "outputs": [
    {
     "name": "stdout",
     "output_type": "stream",
     "text": [
      "(2000, 2, 2)\n",
      "(2000, 2, 2)\n"
     ]
    },
    {
     "data": {
      "text/html": [
       "<div>\n",
       "<style scoped>\n",
       "    .dataframe tbody tr th:only-of-type {\n",
       "        vertical-align: middle;\n",
       "    }\n",
       "\n",
       "    .dataframe tbody tr th {\n",
       "        vertical-align: top;\n",
       "    }\n",
       "\n",
       "    .dataframe thead th {\n",
       "        text-align: right;\n",
       "    }\n",
       "</style>\n",
       "<table border=\"1\" class=\"dataframe\">\n",
       "  <thead>\n",
       "    <tr style=\"text-align: right;\">\n",
       "      <th></th>\n",
       "      <th>mean</th>\n",
       "      <th>sd</th>\n",
       "      <th>hdi_3%</th>\n",
       "      <th>hdi_97%</th>\n",
       "      <th>mcse_mean</th>\n",
       "      <th>mcse_sd</th>\n",
       "      <th>ess_bulk</th>\n",
       "      <th>ess_tail</th>\n",
       "      <th>r_hat</th>\n",
       "    </tr>\n",
       "  </thead>\n",
       "  <tbody>\n",
       "    <tr>\n",
       "      <th>mu0[0]</th>\n",
       "      <td>0.999</td>\n",
       "      <td>0.030</td>\n",
       "      <td>0.937</td>\n",
       "      <td>1.052</td>\n",
       "      <td>0.001</td>\n",
       "      <td>0.001</td>\n",
       "      <td>875.0</td>\n",
       "      <td>754.0</td>\n",
       "      <td>1.00</td>\n",
       "    </tr>\n",
       "    <tr>\n",
       "      <th>mu0[1]</th>\n",
       "      <td>2.062</td>\n",
       "      <td>0.029</td>\n",
       "      <td>2.013</td>\n",
       "      <td>2.116</td>\n",
       "      <td>0.001</td>\n",
       "      <td>0.001</td>\n",
       "      <td>1521.0</td>\n",
       "      <td>1135.0</td>\n",
       "      <td>1.00</td>\n",
       "    </tr>\n",
       "    <tr>\n",
       "      <th>mu1[0]</th>\n",
       "      <td>0.608</td>\n",
       "      <td>0.021</td>\n",
       "      <td>0.565</td>\n",
       "      <td>0.646</td>\n",
       "      <td>0.001</td>\n",
       "      <td>0.001</td>\n",
       "      <td>901.0</td>\n",
       "      <td>919.0</td>\n",
       "      <td>1.00</td>\n",
       "    </tr>\n",
       "    <tr>\n",
       "      <th>mu1[1]</th>\n",
       "      <td>2.572</td>\n",
       "      <td>0.030</td>\n",
       "      <td>2.515</td>\n",
       "      <td>2.624</td>\n",
       "      <td>0.001</td>\n",
       "      <td>0.001</td>\n",
       "      <td>1597.0</td>\n",
       "      <td>1131.0</td>\n",
       "      <td>1.00</td>\n",
       "    </tr>\n",
       "    <tr>\n",
       "      <th>rho[0]</th>\n",
       "      <td>0.563</td>\n",
       "      <td>0.026</td>\n",
       "      <td>0.511</td>\n",
       "      <td>0.609</td>\n",
       "      <td>0.001</td>\n",
       "      <td>0.001</td>\n",
       "      <td>384.0</td>\n",
       "      <td>521.0</td>\n",
       "      <td>1.01</td>\n",
       "    </tr>\n",
       "    <tr>\n",
       "      <th>rho[1]</th>\n",
       "      <td>0.912</td>\n",
       "      <td>0.038</td>\n",
       "      <td>0.846</td>\n",
       "      <td>0.985</td>\n",
       "      <td>0.002</td>\n",
       "      <td>0.002</td>\n",
       "      <td>258.0</td>\n",
       "      <td>232.0</td>\n",
       "      <td>1.03</td>\n",
       "    </tr>\n",
       "    <tr>\n",
       "      <th>s0[0]</th>\n",
       "      <td>0.917</td>\n",
       "      <td>0.040</td>\n",
       "      <td>0.846</td>\n",
       "      <td>0.996</td>\n",
       "      <td>0.002</td>\n",
       "      <td>0.001</td>\n",
       "      <td>421.0</td>\n",
       "      <td>497.0</td>\n",
       "      <td>1.01</td>\n",
       "    </tr>\n",
       "    <tr>\n",
       "      <th>s0[1]</th>\n",
       "      <td>0.904</td>\n",
       "      <td>0.037</td>\n",
       "      <td>0.836</td>\n",
       "      <td>0.972</td>\n",
       "      <td>0.002</td>\n",
       "      <td>0.002</td>\n",
       "      <td>260.0</td>\n",
       "      <td>303.0</td>\n",
       "      <td>1.03</td>\n",
       "    </tr>\n",
       "    <tr>\n",
       "      <th>s1[0]</th>\n",
       "      <td>0.439</td>\n",
       "      <td>0.019</td>\n",
       "      <td>0.401</td>\n",
       "      <td>0.472</td>\n",
       "      <td>0.001</td>\n",
       "      <td>0.001</td>\n",
       "      <td>416.0</td>\n",
       "      <td>560.0</td>\n",
       "      <td>1.01</td>\n",
       "    </tr>\n",
       "    <tr>\n",
       "      <th>s1[1]</th>\n",
       "      <td>1.009</td>\n",
       "      <td>0.041</td>\n",
       "      <td>0.927</td>\n",
       "      <td>1.079</td>\n",
       "      <td>0.002</td>\n",
       "      <td>0.002</td>\n",
       "      <td>274.0</td>\n",
       "      <td>318.0</td>\n",
       "      <td>1.03</td>\n",
       "    </tr>\n",
       "  </tbody>\n",
       "</table>\n",
       "</div>"
      ],
      "text/plain": [
       "         mean     sd  hdi_3%  hdi_97%  mcse_mean  mcse_sd  ess_bulk  ess_tail  \\\n",
       "mu0[0]  0.999  0.030   0.937    1.052      0.001    0.001     875.0     754.0   \n",
       "mu0[1]  2.062  0.029   2.013    2.116      0.001    0.001    1521.0    1135.0   \n",
       "mu1[0]  0.608  0.021   0.565    0.646      0.001    0.001     901.0     919.0   \n",
       "mu1[1]  2.572  0.030   2.515    2.624      0.001    0.001    1597.0    1131.0   \n",
       "rho[0]  0.563  0.026   0.511    0.609      0.001    0.001     384.0     521.0   \n",
       "rho[1]  0.912  0.038   0.846    0.985      0.002    0.002     258.0     232.0   \n",
       "s0[0]   0.917  0.040   0.846    0.996      0.002    0.001     421.0     497.0   \n",
       "s0[1]   0.904  0.037   0.836    0.972      0.002    0.002     260.0     303.0   \n",
       "s1[0]   0.439  0.019   0.401    0.472      0.001    0.001     416.0     560.0   \n",
       "s1[1]   1.009  0.041   0.927    1.079      0.002    0.002     274.0     318.0   \n",
       "\n",
       "        r_hat  \n",
       "mu0[0]   1.00  \n",
       "mu0[1]   1.00  \n",
       "mu1[0]   1.00  \n",
       "mu1[1]   1.00  \n",
       "rho[0]   1.01  \n",
       "rho[1]   1.03  \n",
       "s0[0]    1.01  \n",
       "s0[1]    1.03  \n",
       "s1[0]    1.01  \n",
       "s1[1]    1.03  "
      ]
     },
     "execution_count": 324,
     "metadata": {},
     "output_type": "execute_result"
    }
   ],
   "source": [
    "az.summary(mcmcs['full'])"
   ]
  },
  {
   "cell_type": "code",
   "execution_count": 325,
   "id": "70684e5c-837f-4374-b4a3-709b929e8211",
   "metadata": {},
   "outputs": [
    {
     "name": "stdout",
     "output_type": "stream",
     "text": [
      "(2,)\n",
      "(2000,)\n",
      "(2,)\n",
      "(2000,)\n"
     ]
    },
    {
     "data": {
      "text/html": [
       "<div>\n",
       "<style scoped>\n",
       "    .dataframe tbody tr th:only-of-type {\n",
       "        vertical-align: middle;\n",
       "    }\n",
       "\n",
       "    .dataframe tbody tr th {\n",
       "        vertical-align: top;\n",
       "    }\n",
       "\n",
       "    .dataframe thead th {\n",
       "        text-align: right;\n",
       "    }\n",
       "</style>\n",
       "<table border=\"1\" class=\"dataframe\">\n",
       "  <thead>\n",
       "    <tr style=\"text-align: right;\">\n",
       "      <th></th>\n",
       "      <th>mean</th>\n",
       "      <th>sd</th>\n",
       "      <th>hdi_3%</th>\n",
       "      <th>hdi_97%</th>\n",
       "      <th>mcse_mean</th>\n",
       "      <th>mcse_sd</th>\n",
       "      <th>ess_bulk</th>\n",
       "      <th>ess_tail</th>\n",
       "      <th>r_hat</th>\n",
       "    </tr>\n",
       "  </thead>\n",
       "  <tbody>\n",
       "    <tr>\n",
       "      <th>mu0[0]</th>\n",
       "      <td>0.999</td>\n",
       "      <td>0.031</td>\n",
       "      <td>0.941</td>\n",
       "      <td>1.056</td>\n",
       "      <td>0.001</td>\n",
       "      <td>0.0</td>\n",
       "      <td>3066.0</td>\n",
       "      <td>1143.0</td>\n",
       "      <td>1.00</td>\n",
       "    </tr>\n",
       "    <tr>\n",
       "      <th>mu0[1]</th>\n",
       "      <td>2.062</td>\n",
       "      <td>0.030</td>\n",
       "      <td>2.001</td>\n",
       "      <td>2.112</td>\n",
       "      <td>0.001</td>\n",
       "      <td>0.0</td>\n",
       "      <td>2226.0</td>\n",
       "      <td>1250.0</td>\n",
       "      <td>1.00</td>\n",
       "    </tr>\n",
       "    <tr>\n",
       "      <th>mu1[0]</th>\n",
       "      <td>0.609</td>\n",
       "      <td>0.027</td>\n",
       "      <td>0.559</td>\n",
       "      <td>0.658</td>\n",
       "      <td>0.000</td>\n",
       "      <td>0.0</td>\n",
       "      <td>2865.0</td>\n",
       "      <td>1170.0</td>\n",
       "      <td>1.00</td>\n",
       "    </tr>\n",
       "    <tr>\n",
       "      <th>mu1[1]</th>\n",
       "      <td>2.572</td>\n",
       "      <td>0.026</td>\n",
       "      <td>2.527</td>\n",
       "      <td>2.624</td>\n",
       "      <td>0.000</td>\n",
       "      <td>0.0</td>\n",
       "      <td>2943.0</td>\n",
       "      <td>1240.0</td>\n",
       "      <td>1.00</td>\n",
       "    </tr>\n",
       "    <tr>\n",
       "      <th>s[0]</th>\n",
       "      <td>0.929</td>\n",
       "      <td>0.028</td>\n",
       "      <td>0.879</td>\n",
       "      <td>0.982</td>\n",
       "      <td>0.001</td>\n",
       "      <td>0.0</td>\n",
       "      <td>2378.0</td>\n",
       "      <td>986.0</td>\n",
       "      <td>1.00</td>\n",
       "    </tr>\n",
       "    <tr>\n",
       "      <th>s[1]</th>\n",
       "      <td>0.742</td>\n",
       "      <td>0.022</td>\n",
       "      <td>0.700</td>\n",
       "      <td>0.783</td>\n",
       "      <td>0.000</td>\n",
       "      <td>0.0</td>\n",
       "      <td>2327.0</td>\n",
       "      <td>1131.0</td>\n",
       "      <td>1.01</td>\n",
       "    </tr>\n",
       "  </tbody>\n",
       "</table>\n",
       "</div>"
      ],
      "text/plain": [
       "         mean     sd  hdi_3%  hdi_97%  mcse_mean  mcse_sd  ess_bulk  ess_tail  \\\n",
       "mu0[0]  0.999  0.031   0.941    1.056      0.001      0.0    3066.0    1143.0   \n",
       "mu0[1]  2.062  0.030   2.001    2.112      0.001      0.0    2226.0    1250.0   \n",
       "mu1[0]  0.609  0.027   0.559    0.658      0.000      0.0    2865.0    1170.0   \n",
       "mu1[1]  2.572  0.026   2.527    2.624      0.000      0.0    2943.0    1240.0   \n",
       "s[0]    0.929  0.028   0.879    0.982      0.001      0.0    2378.0     986.0   \n",
       "s[1]    0.742  0.022   0.700    0.783      0.000      0.0    2327.0    1131.0   \n",
       "\n",
       "        r_hat  \n",
       "mu0[0]   1.00  \n",
       "mu0[1]   1.00  \n",
       "mu1[0]   1.00  \n",
       "mu1[1]   1.00  \n",
       "s[0]     1.00  \n",
       "s[1]     1.01  "
      ]
     },
     "execution_count": 325,
     "metadata": {},
     "output_type": "execute_result"
    }
   ],
   "source": [
    "az.summary(mcmcs['isotropic'])"
   ]
  },
  {
   "cell_type": "code",
   "execution_count": 326,
   "id": "da2642f1-6d29-4070-be6a-91325ce74ee2",
   "metadata": {},
   "outputs": [],
   "source": [
    "# azds = {k: az.from_numpyro(mcmc) for k, mcmc in mcmcs.items()}\n",
    "# azds = {k: az.from_dict(smp) for k, smp in smps.items()}\n",
    "# azs = {k: az.summary(azd) for k, azd in azd.items()}\n",
    "# azd = az.from_numpyro(mcmc)\n",
    "# azs = az.summary(azd)"
   ]
  },
  {
   "cell_type": "code",
   "execution_count": 327,
   "id": "a1ddf101-dc35-4c1a-89f0-44979514a2a3",
   "metadata": {},
   "outputs": [],
   "source": [
    "def predictive_sample(rng_key, post_sample, model, obs_site=\"obs\", *args, **kwargs):\n",
    "    model = seed(handlers.condition(model, post_sample), rng_key)\n",
    "    model_trace = handlers.trace(model).get_trace(*args, **kwargs)\n",
    "    return model_trace[obs_site][\"value\"]\n",
    "\n",
    "\n",
    "# pred_iso1 = partial(predictive_sample, model=model_isotropic)\n",
    "# pred_iso = vmap(lambda rng_key, post_sample, num_samples: vmap(lambda key: partial(pred_iso1, post_sample=post_sample, **kwargs))(random.split(rng_key, num_samples))\n",
    "def pred_iso(rng_key, post_sample, num_samples, *args, **kwargs):\n",
    "    keys = random.split(rng_key, num_samples)\n",
    "    pred1 = partial(predictive_sample, post_sample=post_sample, model=model_isotropic)\n",
    "    \n",
    "    return vmap(lambda key: pred1(key, *args, **kwargs))(keys)\n",
    "\n",
    "def pred_full(rng_key, post_sample, num_samples, *args, **kwargs):\n",
    "    keys = random.split(rng_key, num_samples)\n",
    "    pred1 = partial(predictive_sample, post_sample=post_sample, model=model_full)\n",
    "    \n",
    "    return vmap(lambda key: pred1(key, *args, **kwargs))(keys)\n",
    "\n",
    "# def pred_iso(rng_key, num_samples=1):\n",
    "    # keys = random.split(\n",
    "\n",
    "\n",
    "# def predict_iso(rng_key, post_sample, num_samples=1, *args, **kwargs):\n",
    "    # keys = random.split(rng_key, num_samples)\n",
    "    # return vmap(lambda key: predict_sample(key, post_sample, model_isotropic)(*args, **kwargs)))(keys)\n"
   ]
  },
  {
   "cell_type": "code",
   "execution_count": 355,
   "id": "a48886c3-6933-4222-9916-0a657262682d",
   "metadata": {},
   "outputs": [],
   "source": [
    "pred_key = PK(12345)\n",
    "num_pred = int(1e4)\n",
    "smps_bar = {model_tag: {k: jnp.mean(v, axis=0) for k, v in smp.items()} for model_tag, smp in smps.items()}\n",
    "# smp_iso_bar = {k: jnp.mean(v, axis=0) for k,v in samples_iso.items()}\n",
    "# smp_iso_bar = {k: jnp.mean(v, axis=0) for k,v in samples_iso.items()}\n",
    "# predictive_iso = Predictive(model_isotropic, smp_iso_bar, num_samples=1000)\n",
    "# preds_iso = predictive_iso(pred_key, sex_boy=jnp.array((0,1), dtype=jnp.int32))[\"X_obs\"]\n",
    "# preds_iso = pred_iso(pred_key, smp_iso_bar, num_pred, sex_boy=jnp.arange(2))\n",
    "# print(preds_iso.shape)\n",
    "preds_iso = pred_iso(pred_key, smps_bar['isotropic'], num_pred, sex_boy=jnp.arange(2))\n",
    "preds_full = pred_full(pred_key, smps_bar['full'], num_pred, sex_boy=jnp.arange(2))"
   ]
  },
  {
   "cell_type": "code",
   "execution_count": null,
   "id": "66de7a35-e05c-47a4-9f9a-0de3d88d2efe",
   "metadata": {},
   "outputs": [],
   "source": []
  },
  {
   "cell_type": "code",
   "execution_count": 356,
   "id": "7f19812d-639a-4715-a698-4a4c97df3ca7",
   "metadata": {},
   "outputs": [],
   "source": [
    "# smp_iso_map"
   ]
  },
  {
   "cell_type": "code",
   "execution_count": 357,
   "id": "478d99fb-a43e-4207-9d1e-799172e03696",
   "metadata": {},
   "outputs": [],
   "source": [
    "df_iso0 = pd.DataFrame(preds_iso[:,0,:], columns=['length', 'weight'])\n",
    "df_iso0['sex'] = \"girl\"\n",
    "df_iso1 = pd.DataFrame(preds_iso[:,1,:], columns=['length', 'weight'])\n",
    "df_iso1['sex'] = \"boy\"\n",
    "df_iso = pd.concat((df_iso0, df_iso1))\n",
    "df_iso[\"model\"] = \"isotropic\"\n",
    "# df_iso.columns = [\n",
    "\n",
    "df_full0 = pd.DataFrame(preds_full[:,0,:], columns=['length', 'weight'])\n",
    "df_full0['sex'] = \"girl\"\n",
    "df_full1 = pd.DataFrame(preds_full[:,1,:], columns=['length', 'weight'])\n",
    "df_full1['sex'] = \"boy\"\n",
    "df_full = pd.concat((df_full0, df_full1))\n",
    "df_full[\"model\"] = \"full\"\n"
   ]
  },
  {
   "cell_type": "code",
   "execution_count": 358,
   "id": "39df694c-902a-4ad8-8a33-2ebb25d80e0f",
   "metadata": {},
   "outputs": [],
   "source": [
    "df[\"model\"] = \"observed\""
   ]
  },
  {
   "cell_type": "code",
   "execution_count": 359,
   "id": "b4ad84d7-3954-4026-9efd-f8631982dead",
   "metadata": {},
   "outputs": [],
   "source": [
    "dfa = pd.concat((df, df_iso, df_full))\n",
    "dfa[\"sex_int\"] = (dfa.sex=='boy').astype(int)"
   ]
  },
  {
   "cell_type": "code",
   "execution_count": 360,
   "id": "f8374958-1dad-4686-b611-9ae8853e0ab5",
   "metadata": {},
   "outputs": [],
   "source": [
    "# dfa"
   ]
  },
  {
   "cell_type": "code",
   "execution_count": 398,
   "id": "b7f95b91-4154-48a2-bfd1-3f67ddfbed36",
   "metadata": {},
   "outputs": [
    {
     "data": {
      "image/png": "[encoded data removed]",
      "text/plain": [
       "<Figure size 640x480 with 1 Axes>"
      ]
     },
     "metadata": {},
     "output_type": "display_data"
    }
   ],
   "source": [
    "palette = {'boy': 'tab:blue', 'girl': 'tab:red'}\n",
    "xmin, xmax = -2.2, 6\n",
    "ymin, ymax = -2, 6.5\n",
    "\n",
    "ax = sns.scatterplot(dfa[(dfa.model=='observed')], x='length', y='weight', hue='sex', palette=palette, alpha=0.25)\n",
    "# ax = sns.scatterplot(dfa[(dfa.model=='observed')&(dfa.sex=='boy')], x='length', y='weight', hue='sex', palette=palette, alpha=0.25)\n",
    "# ax = sns.scatterplot(dfa[(dfa.model=='observed')&(dfa.sex=='girl')], x='length', y='weight', hue='sex', palette=palette, alpha=0.25)\n",
    "# ax = sns.kdeplot(dfa[dfa.model=='isotropic'], x='length', y='weight', hue='sex', palette=palette, levels=4)\n",
    "# ax = sns.kdeplot(dfa[(dfa.model=='full')], x='length', y='weight', hue='sex', palette=palette, levels=4)\n",
    "# ax = sns.kdeplot(dfa[(dfa.model=='full')&(dfa.sex=='girl')], x='length', y='weight', hue='sex', palette=palette, levels=4)\n",
    "# ax = sns.kdeplot(dfa[(dfa.model=='full')&(dfa.sex=='boy')], x='length', y='weight', hue='sex', palette=palette, levels=4)\n",
    "\n",
    "\n",
    "# Fit the data to a logistic regression model.\n",
    "clf = linear_model.LogisticRegression()\n",
    "clf.fit(X_all, sex_boy)\n",
    "\n",
    "# Retrieve the model parameters.\n",
    "b = clf.intercept_[0]\n",
    "w1, w2 = clf.coef_.T\n",
    "# Calculate the intercept and gradient of the decision boundary.\n",
    "c = -b/w2\n",
    "m = -w1/w2\n",
    "\n",
    "# Plot the data and the classification with the decision boundary.\n",
    "xd = jnp.array([xmin, xmax])\n",
    "yd = m*xd + c\n",
    "ax.plot(xd, yd, 'k', lw=1, ls='--')\n",
    "ax.fill_between(xd, yd, ymin, color='tab:red', alpha=0.2)\n",
    "ax.fill_between(xd, yd, ymax, color='tab:blue', alpha=0.2)\n",
    "\n",
    "ax.set_aspect(\"equal\")\n",
    "ax.set(xticklabels=[], yticklabels=[])\n",
    "ax.tick_params(bottom=False, left=False)\n",
    "ax.set_xlim(xmin, xmax)\n",
    "ax.set_ylim(ymin, ymax)\n",
    "\n",
    "fig = ax.get_figure()\n",
    "fig.savefig('class_logistic.pdf')"
   ]
  },
  {
   "cell_type": "code",
   "execution_count": null,
   "id": "9fbc6f8e-8d23-44b9-9af8-ac1694c34a88",
   "metadata": {},
   "outputs": [],
   "source": []
  }
 ],
 "metadata": {
  "kernelspec": {
   "display_name": "cgen",
   "language": "python",
   "name": "cgen"
  },
  "language_info": {
   "codemirror_mode": {
    "name": "ipython",
    "version": 3
   },
   "file_extension": ".py",
   "mimetype": "text/x-python",
   "name": "python",
   "nbconvert_exporter": "python",
   "pygments_lexer": "ipython3",
   "version": "3.11.4"
  }
 },
 "nbformat": 4,
 "nbformat_minor": 5
}
